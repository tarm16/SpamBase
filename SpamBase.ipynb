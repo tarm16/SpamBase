{
 "cells": [
  {
   "cell_type": "code",
   "execution_count": 1,
   "metadata": {},
   "outputs": [],
   "source": [
    "##importer les librairies\n",
    "import numpy as np\n",
    "import matplotlib.pyplot as plt\n",
    "\n",
    "from sklearn.tree import DecisionTreeRegressor\n",
    "from sklearn.neighbors import KNeighborsClassifier\n",
    "from sklearn.tree import DecisionTreeClassifier\n",
    "from sklearn.naive_bayes import GaussianNB\n",
    "from sklearn.svm import SVC\n",
    "from sklearn.linear_model import LogisticRegression\n",
    "from sklearn.neural_network import MLPClassifier\n",
    "from sklearn.ensemble import BaggingClassifier\n",
    "from sklearn.ensemble import GradientBoostingClassifier\n",
    "from sklearn.model_selection import cross_validate\n",
    "import pandas as pd\n",
    "import sklearn.datasets\n",
    "from sklearn.model_selection import cross_val_score\n",
    "import tensorflow as tf\n",
    "from keras import models\n",
    "from keras import layers\n",
    "from keras.wrappers.scikit_learn import KerasClassifier\n",
    "from sklearn.datasets import make_classification\n",
    "import matplotlib.pyplot as plt"
   ]
  },
  {
   "cell_type": "code",
   "execution_count": 2,
   "metadata": {},
   "outputs": [
    {
     "data": {
      "text/plain": [
       "(4600, 58)"
      ]
     },
     "execution_count": 2,
     "metadata": {},
     "output_type": "execute_result"
    }
   ],
   "source": [
    "data = pd.read_csv('spambase.data')\n",
    "data.shape"
   ]
  },
  {
   "cell_type": "code",
   "execution_count": 3,
   "metadata": {},
   "outputs": [
    {
     "data": {
      "text/html": [
       "<div>\n",
       "<style scoped>\n",
       "    .dataframe tbody tr th:only-of-type {\n",
       "        vertical-align: middle;\n",
       "    }\n",
       "\n",
       "    .dataframe tbody tr th {\n",
       "        vertical-align: top;\n",
       "    }\n",
       "\n",
       "    .dataframe thead th {\n",
       "        text-align: right;\n",
       "    }\n",
       "</style>\n",
       "<table border=\"1\" class=\"dataframe\">\n",
       "  <thead>\n",
       "    <tr style=\"text-align: right;\">\n",
       "      <th></th>\n",
       "      <th>0</th>\n",
       "      <th>0.64</th>\n",
       "      <th>0.64.1</th>\n",
       "      <th>0.1</th>\n",
       "      <th>0.32</th>\n",
       "      <th>0.2</th>\n",
       "      <th>0.3</th>\n",
       "      <th>0.4</th>\n",
       "      <th>0.5</th>\n",
       "      <th>0.6</th>\n",
       "      <th>...</th>\n",
       "      <th>0.40</th>\n",
       "      <th>0.41</th>\n",
       "      <th>0.42</th>\n",
       "      <th>0.778</th>\n",
       "      <th>0.43</th>\n",
       "      <th>0.44</th>\n",
       "      <th>3.756</th>\n",
       "      <th>61</th>\n",
       "      <th>278</th>\n",
       "      <th>1</th>\n",
       "    </tr>\n",
       "  </thead>\n",
       "  <tbody>\n",
       "    <tr>\n",
       "      <th>0</th>\n",
       "      <td>0.21</td>\n",
       "      <td>0.28</td>\n",
       "      <td>0.50</td>\n",
       "      <td>0.0</td>\n",
       "      <td>0.14</td>\n",
       "      <td>0.28</td>\n",
       "      <td>0.21</td>\n",
       "      <td>0.07</td>\n",
       "      <td>0.00</td>\n",
       "      <td>0.94</td>\n",
       "      <td>...</td>\n",
       "      <td>0.00</td>\n",
       "      <td>0.132</td>\n",
       "      <td>0.0</td>\n",
       "      <td>0.372</td>\n",
       "      <td>0.180</td>\n",
       "      <td>0.048</td>\n",
       "      <td>5.114</td>\n",
       "      <td>101</td>\n",
       "      <td>1028</td>\n",
       "      <td>1</td>\n",
       "    </tr>\n",
       "    <tr>\n",
       "      <th>1</th>\n",
       "      <td>0.06</td>\n",
       "      <td>0.00</td>\n",
       "      <td>0.71</td>\n",
       "      <td>0.0</td>\n",
       "      <td>1.23</td>\n",
       "      <td>0.19</td>\n",
       "      <td>0.19</td>\n",
       "      <td>0.12</td>\n",
       "      <td>0.64</td>\n",
       "      <td>0.25</td>\n",
       "      <td>...</td>\n",
       "      <td>0.01</td>\n",
       "      <td>0.143</td>\n",
       "      <td>0.0</td>\n",
       "      <td>0.276</td>\n",
       "      <td>0.184</td>\n",
       "      <td>0.010</td>\n",
       "      <td>9.821</td>\n",
       "      <td>485</td>\n",
       "      <td>2259</td>\n",
       "      <td>1</td>\n",
       "    </tr>\n",
       "    <tr>\n",
       "      <th>2</th>\n",
       "      <td>0.00</td>\n",
       "      <td>0.00</td>\n",
       "      <td>0.00</td>\n",
       "      <td>0.0</td>\n",
       "      <td>0.63</td>\n",
       "      <td>0.00</td>\n",
       "      <td>0.31</td>\n",
       "      <td>0.63</td>\n",
       "      <td>0.31</td>\n",
       "      <td>0.63</td>\n",
       "      <td>...</td>\n",
       "      <td>0.00</td>\n",
       "      <td>0.137</td>\n",
       "      <td>0.0</td>\n",
       "      <td>0.137</td>\n",
       "      <td>0.000</td>\n",
       "      <td>0.000</td>\n",
       "      <td>3.537</td>\n",
       "      <td>40</td>\n",
       "      <td>191</td>\n",
       "      <td>1</td>\n",
       "    </tr>\n",
       "    <tr>\n",
       "      <th>3</th>\n",
       "      <td>0.00</td>\n",
       "      <td>0.00</td>\n",
       "      <td>0.00</td>\n",
       "      <td>0.0</td>\n",
       "      <td>0.63</td>\n",
       "      <td>0.00</td>\n",
       "      <td>0.31</td>\n",
       "      <td>0.63</td>\n",
       "      <td>0.31</td>\n",
       "      <td>0.63</td>\n",
       "      <td>...</td>\n",
       "      <td>0.00</td>\n",
       "      <td>0.135</td>\n",
       "      <td>0.0</td>\n",
       "      <td>0.135</td>\n",
       "      <td>0.000</td>\n",
       "      <td>0.000</td>\n",
       "      <td>3.537</td>\n",
       "      <td>40</td>\n",
       "      <td>191</td>\n",
       "      <td>1</td>\n",
       "    </tr>\n",
       "    <tr>\n",
       "      <th>4</th>\n",
       "      <td>0.00</td>\n",
       "      <td>0.00</td>\n",
       "      <td>0.00</td>\n",
       "      <td>0.0</td>\n",
       "      <td>1.85</td>\n",
       "      <td>0.00</td>\n",
       "      <td>0.00</td>\n",
       "      <td>1.85</td>\n",
       "      <td>0.00</td>\n",
       "      <td>0.00</td>\n",
       "      <td>...</td>\n",
       "      <td>0.00</td>\n",
       "      <td>0.223</td>\n",
       "      <td>0.0</td>\n",
       "      <td>0.000</td>\n",
       "      <td>0.000</td>\n",
       "      <td>0.000</td>\n",
       "      <td>3.000</td>\n",
       "      <td>15</td>\n",
       "      <td>54</td>\n",
       "      <td>1</td>\n",
       "    </tr>\n",
       "  </tbody>\n",
       "</table>\n",
       "<p>5 rows × 58 columns</p>\n",
       "</div>"
      ],
      "text/plain": [
       "      0  0.64  0.64.1  0.1  0.32   0.2   0.3   0.4   0.5   0.6  ...  0.40  \\\n",
       "0  0.21  0.28    0.50  0.0  0.14  0.28  0.21  0.07  0.00  0.94  ...  0.00   \n",
       "1  0.06  0.00    0.71  0.0  1.23  0.19  0.19  0.12  0.64  0.25  ...  0.01   \n",
       "2  0.00  0.00    0.00  0.0  0.63  0.00  0.31  0.63  0.31  0.63  ...  0.00   \n",
       "3  0.00  0.00    0.00  0.0  0.63  0.00  0.31  0.63  0.31  0.63  ...  0.00   \n",
       "4  0.00  0.00    0.00  0.0  1.85  0.00  0.00  1.85  0.00  0.00  ...  0.00   \n",
       "\n",
       "    0.41  0.42  0.778   0.43   0.44  3.756   61   278  1  \n",
       "0  0.132   0.0  0.372  0.180  0.048  5.114  101  1028  1  \n",
       "1  0.143   0.0  0.276  0.184  0.010  9.821  485  2259  1  \n",
       "2  0.137   0.0  0.137  0.000  0.000  3.537   40   191  1  \n",
       "3  0.135   0.0  0.135  0.000  0.000  3.537   40   191  1  \n",
       "4  0.223   0.0  0.000  0.000  0.000  3.000   15    54  1  \n",
       "\n",
       "[5 rows x 58 columns]"
      ]
     },
     "execution_count": 3,
     "metadata": {},
     "output_type": "execute_result"
    }
   ],
   "source": [
    "data.head(5)"
   ]
  },
  {
   "cell_type": "code",
   "execution_count": 4,
   "metadata": {},
   "outputs": [],
   "source": [
    "X = data.iloc[:, :-1].values\n",
    "y = data.iloc[:, -1].values\n",
    "l1=[]\n",
    "l2=[]"
   ]
  },
  {
   "cell_type": "code",
   "execution_count": 23,
   "metadata": {},
   "outputs": [],
   "source": [
    "from sklearn.model_selection import train_test_split\n",
    "X_train, X_test, y_train, y_test = train_test_split(X, y ,train_size=0.7, random_state = 0)"
   ]
  },
  {
   "cell_type": "code",
   "execution_count": 6,
   "metadata": {},
   "outputs": [
    {
     "data": {
      "text/plain": [
       "(1840, 57)"
      ]
     },
     "execution_count": 6,
     "metadata": {},
     "output_type": "execute_result"
    }
   ],
   "source": [
    "X_test.shape"
   ]
  },
  {
   "cell_type": "code",
   "execution_count": 24,
   "metadata": {},
   "outputs": [],
   "source": [
    "##feature scaling\n",
    "from sklearn.preprocessing import StandardScaler\n",
    "sc = StandardScaler()\n",
    "X_train = sc.fit_transform(X_train)\n",
    "X_test = sc.transform(X_test)"
   ]
  },
  {
   "cell_type": "code",
   "execution_count": 25,
   "metadata": {},
   "outputs": [
    {
     "name": "stdout",
     "output_type": "stream",
     "text": [
      "[0.89751553 0.87888199 0.91149068 0.87267081 0.89906832]\n",
      "L'erreure de validation moyenne du KPPV est 0.1080745341614906\n"
     ]
    }
   ],
   "source": [
    "from sklearn.model_selection import StratifiedKFold\n",
    "##Training the K-NN model of the training set(KPPV (à 5 voisins))\n",
    "classifierKnn = KNeighborsClassifier(n_neighbors = 5, metric = 'minkowski')\n",
    "classifierKnn.fit(X_train, y_train)\n",
    "\n",
    "K_folds= StratifiedKFold(n_splits=5)\n",
    "scores = cross_val_score(classifierKnn, X_train, y_train, cv=K_folds)\n",
    "print(scores)\n",
    "\n",
    "print(\"L'erreure de validation moyenne du KPPV est\" , 1-scores.mean())\n",
    "l1.append('KNeighborsClassifier')\n",
    "l2.append(1-scores.mean())"
   ]
  },
  {
   "cell_type": "code",
   "execution_count": 26,
   "metadata": {},
   "outputs": [
    {
     "name": "stdout",
     "output_type": "stream",
     "text": [
      "[0.89906832 0.90838509 0.89285714 0.87732919 0.89751553]\n",
      "L'erreure de validation moyenne de l'Arbre de décision est 0.10496894409937896\n"
     ]
    }
   ],
   "source": [
    "##Training the Decision Tree Classification model on the Training set (Arbre de décision)\n",
    "classifierTree = DecisionTreeClassifier(criterion = 'entropy', max_depth=5)\n",
    "classifierTree.fit(X_train, y_train)\n",
    "\n",
    "K_folds= StratifiedKFold(n_splits=5)\n",
    "scores = cross_val_score(classifierTree, X_train, y_train, cv=K_folds)\n",
    "print(scores)\n",
    "\n",
    "print(\"L'erreure de validation moyenne de l'Arbre de décision est\" , 1-scores.mean())\n",
    "l1.append('DecisionTreeClassifier')\n",
    "l2.append(1-scores.mean())\n",
    "\n"
   ]
  },
  {
   "cell_type": "code",
   "execution_count": 27,
   "metadata": {},
   "outputs": [
    {
     "name": "stdout",
     "output_type": "stream",
     "text": [
      "[0.79813665 0.82608696 0.80900621 0.79503106 0.80590062]\n",
      "L'erreure de validation moyenne du Classificateur de Bayes est 0.1931677018633542\n"
     ]
    }
   ],
   "source": [
    "##Training the Naive Bayes model on the Training set\n",
    "classifierNB = GaussianNB()\n",
    "classifierNB.fit(X_train, y_train)\n",
    "\n",
    "K_folds= StratifiedKFold(n_splits=5)\n",
    "scores = cross_val_score(classifierNB, X_train, y_train, cv=K_folds)\n",
    "print(scores)\n",
    "\n",
    "print(\"L'erreure de validation moyenne du Classificateur de Bayes est\" , 1-scores.mean())\n",
    "l1.append('GaussianNB')\n",
    "l2.append(1-scores.mean())\n"
   ]
  },
  {
   "cell_type": "code",
   "execution_count": 28,
   "metadata": {},
   "outputs": [
    {
     "name": "stdout",
     "output_type": "stream",
     "text": [
      "[0.92701863 0.92546584 0.92080745 0.90372671 0.92391304]\n",
      "L'erreure de validation moyenne de la regression logistique est 0.07981366459627337\n"
     ]
    }
   ],
   "source": [
    "##Training the Logistic Regression model on the Training set\n",
    "classifierlogistic = LogisticRegression(solver='liblinear',max_iter=4000)\n",
    "classifierlogistic.fit(X_train, y_train)\n",
    "\n",
    "K_folds= StratifiedKFold(n_splits=5)\n",
    "scores = cross_val_score(classifierlogistic, X_train, y_train, cv=K_folds)\n",
    "print(scores)\n",
    "\n",
    "print(\"L'erreure de validation moyenne de la regression logistique est\" , 1-scores.mean())\n",
    "l1.append('classifierlogistic')\n",
    "l2.append(1-scores.mean())"
   ]
  },
  {
   "cell_type": "code",
   "execution_count": 29,
   "metadata": {},
   "outputs": [
    {
     "name": "stdout",
     "output_type": "stream",
     "text": [
      "[0.93167702 0.92701863 0.91304348 0.91459627 0.92546584]\n",
      "L'erreure de validation moyenne du SVM lineaire est 0.07763975155279501\n"
     ]
    }
   ],
   "source": [
    "##Training the SVM model on the Training set\n",
    "classifierSVC = SVC(kernel='linear', random_state= 0)\n",
    "classifierSVC.fit(X_train, y_train)\n",
    "\n",
    "K_folds= StratifiedKFold(n_splits=5)\n",
    "\n",
    "scores = cross_val_score(classifierSVC, X_train, y_train, cv=K_folds)\n",
    "print(scores)\n",
    "\n",
    "print(\"L'erreure de validation moyenne du SVM lineaire est\" , 1-scores.mean())\n",
    "\n",
    "l1.append('classifierSVC')\n",
    "l2.append(1-scores.mean())\n",
    "\n"
   ]
  },
  {
   "cell_type": "code",
   "execution_count": 30,
   "metadata": {},
   "outputs": [
    {
     "name": "stdout",
     "output_type": "stream",
     "text": [
      "[0.92701863 0.93322981 0.92236025 0.89596273 0.91614907]\n",
      "L'erreure de validation moyenne du classifierBagging  est 0.081055900621118\n"
     ]
    }
   ],
   "source": [
    "##Training the Bagging Classification model on the Training set (Arbre de décision)\n",
    "classifierBagging = BaggingClassifier(base_estimator=DecisionTreeClassifier(criterion = 'entropy', max_depth=5),n_estimators=15, random_state=0)\n",
    "classifierBagging.fit(X_train, y_train)\n",
    "\n",
    "K_folds= StratifiedKFold(n_splits=5)\n",
    "scores = cross_val_score(classifierBagging, X_train, y_train, cv=K_folds)\n",
    "print(scores)\n",
    "\n",
    "print(\"L'erreure de validation moyenne du classifierBagging  est\" , 1-scores.mean())\n",
    "\n",
    "l1.append('classifierBagging')\n",
    "l2.append(1-scores.mean())"
   ]
  },
  {
   "cell_type": "code",
   "execution_count": 31,
   "metadata": {},
   "outputs": [
    {
     "name": "stdout",
     "output_type": "stream",
     "text": [
      "[0.95962733 0.94875776 0.94099379 0.9378882  0.95652174]\n",
      "L'erreure de validation moyenne du classifierBoosting  est 0.05124223602484468\n"
     ]
    }
   ],
   "source": [
    "##Training the Boosting Classification model on the Training set (Arbre de décision)\n",
    "classifierGradientBoosting = GradientBoostingClassifier( n_estimators=200, learning_rate=0.1,max_depth=5, random_state=0)\n",
    "classifierGradientBoosting.fit(X_train, y_train)\n",
    "\n",
    "K_folds= StratifiedKFold(n_splits=5)\n",
    "scores = cross_val_score(classifierGradientBoosting, X_train, y_train, cv=K_folds)\n",
    "print(scores)\n",
    "\n",
    "print(\"L'erreure de validation moyenne du classifierBoosting  est\" , 1-scores.mean())\n",
    "#GradientBoostingClassifier\n",
    "\n",
    "l1.append('classifierGradientBoosting')\n",
    "l2.append(1-scores.mean())\n",
    "\n"
   ]
  },
  {
   "cell_type": "code",
   "execution_count": null,
   "metadata": {},
   "outputs": [
    {
     "name": "stderr",
     "output_type": "stream",
     "text": [
      "C:\\Users\\PC\\AppData\\Local\\Temp/ipykernel_13324/1052005848.py:33: DeprecationWarning: KerasClassifier is deprecated, use Sci-Keras (https://github.com/adriangb/scikeras) instead. See https://www.adriangb.com/scikeras/stable/migration.html for help migrating.\n",
      "  neural_network = KerasClassifier(build_fn=create_network, epochs=10,batch_size=100, verbose=0)\n"
     ]
    }
   ],
   "source": [
    "np.random.seed(0)\n",
    "number_of_features = 4600\n",
    "X_train, y_train = make_classification(n_samples = 10000,\n",
    "                                      n_features = number_of_features,\n",
    "                                       n_informative = 3,\n",
    "                                       n_redundant = 0,\n",
    "                                       n_classes = 2,\n",
    "                                       weights = [.5, .5],\n",
    "                                       random_state = 0)\n",
    "\n",
    "def create_network():\n",
    "    \n",
    "    # Start neural network\n",
    "    network = models.Sequential()\n",
    "\n",
    "    # Add fully connected layer with a ReLU activation function\n",
    "    network.add(layers.Dense(units=16, activation='relu', input_shape=(number_of_features,)))\n",
    "\n",
    "    # Add fully connected layer with a ReLU activation function\n",
    "    network.add(layers.Dense(units=16, activation='relu'))\n",
    "\n",
    "    # Add fully connected layer with a sigmoid activation function\n",
    "    network.add(layers.Dense(units=1, activation='sigmoid'))\n",
    "\n",
    "    # Compile neural network\n",
    "    network.compile(loss='binary_crossentropy', # Cross-entropy\n",
    "                    optimizer='rmsprop', # Root Mean Square Propagation\n",
    "                    metrics=['accuracy']) # Accuracy performance metric\n",
    "    \n",
    "    # Return compiled network\n",
    "    return network\n",
    "\n",
    "neural_network = KerasClassifier(build_fn=create_network, epochs=10,batch_size=100, verbose=0)                                \n",
    "\n",
    "K_folds= StratifiedKFold(n_splits=5)\n",
    "scorss = cross_val_score(neural_network, X_train, y_train, cv=K_folds)\n",
    "print(scorss)\n",
    "print(\"L'erreure de validation moyenne du réseau de neurone est\" , 1-scorss.mean())\n",
    "l1.append('classifierneural network')\n",
    "l2.append(1-scorss.mean())\n"
   ]
  },
  {
   "cell_type": "code",
   "execution_count": 16,
   "metadata": {},
   "outputs": [
    {
     "data": {
      "image/png": "[encoded data removed]",
      "text/plain": [
       "<Figure size 432x288 with 1 Axes>"
      ]
     },
     "metadata": {
      "needs_background": "light"
     },
     "output_type": "display_data"
    }
   ],
   "source": [
    "l11=np.array(l1)\n",
    "l22=np.array(l2)\n",
    "import matplotlib.pyplot as plt\n",
    "plt.barh(l11,l22)\n",
    "plt.show()"
   ]
  },
  {
   "cell_type": "code",
   "execution_count": null,
   "metadata": {},
   "outputs": [],
   "source": []
  }
 ],
 "metadata": {
  "kernelspec": {
   "display_name": "Python 3 (ipykernel)",
   "language": "python",
   "name": "python3"
  },
  "language_info": {
   "codemirror_mode": {
    "name": "ipython",
    "version": 3
   },
   "file_extension": ".py",
   "mimetype": "text/x-python",
   "name": "python",
   "nbconvert_exporter": "python",
   "pygments_lexer": "ipython3",
   "version": "3.9.7"
  }
 },
 "nbformat": 4,
 "nbformat_minor": 4
}
